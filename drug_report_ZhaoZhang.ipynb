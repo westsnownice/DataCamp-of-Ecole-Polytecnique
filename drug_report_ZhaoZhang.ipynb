{
 "cells": [
  {
   "cell_type": "markdown",
   "metadata": {},
   "source": [
    "<h2> DATA CAMP REPORT </h2>\n",
    "by Zhao ZHANG"
   ]
  },
  {
   "cell_type": "markdown",
   "metadata": {},
   "source": [
    "<h2> Introduction </h2>\n",
    "\n",
    "\n",
    "<p>The goal of this project is to develop prediction models able to <b>identify and quantify chemotherapeutic agents from their Raman spectra</b>.  \n",
    "\n",
    "\n",
    "Part of these data are saved in the file <code>train.csv</code> as follows (<code>n_samples</code> being the number of samples): \n",
    "<ul>\n",
    "    <li><b>molecule</b>: Type of chemotherapeutic agent. Six possible values: A for infliximab, B for bévacizumab, Q for ramucirumab, R for rituximab. Dimension: (<code>n_samples</code>,)</li>\n",
    "    <li><b>vial</b>: Vial type. Three possible values: 1, 2, 3. Dimension: (<code>1</code>, <code>n_samples</code>)</li>\n",
    "    <li><b>solute</b>: Solute group. Fourteen possible values: 1, 2, ..., 14. Dimension: (<code>1</code>, <code>n_samples</code>)</li>\n",
    "    <li><b>concentration</b>: Concentration of the molecule. Dimension: (<code>n_samples</code>, <code>1</code>)</li>\n",
    "    <li><b>spectra</b>: Intensity of Raman spectrum. Dimension: (<code>n_samples</code>, <code>1866</code>)</li>\n",
    "</ul>\n",
    "\n",
    "<p>To sum up, there are two objectives:\n",
    "\n",
    "<ul>\n",
    "    <li><b>classification</b>: predict which molecule it corresponds to given the spectrum.</li>\n",
    "    <li><b>regression</b>: predict the concentration of a molecule. The prediction should not depend on the vial or the solute group. The error metric is the mean absolute relative error (mare): $$\\frac{1}{n_{samples}}\\sum_{i=1}^{n_{samples}}\\left|\\frac{y_i-\\hat{y}_i}{y_i}\\right|$$ with $y$ and $\\hat{y}$ being the true and predicted concentration.</li>\n",
    "</ul>"
   ]
  },
  {
   "cell_type": "markdown",
   "metadata": {},
   "source": [
    "## Exploratory data analysis"
   ]
  },
  {
   "cell_type": "markdown",
   "metadata": {},
   "source": [
    "### Loading the data"
   ]
  },
  {
   "cell_type": "code",
   "execution_count": 2,
   "metadata": {
    "collapsed": false
   },
   "outputs": [],
   "source": [
    "%matplotlib inline\n",
    "import os\n",
    "import glob\n",
    "import numpy as np\n",
    "from scipy import io\n",
    "import matplotlib.pyplot as plt\n",
    "import pandas as pd\n",
    "data = pd.read_csv('train.csv')\n",
    "y_df = data[['molecule', 'concentration']]\n",
    "X_df = data.drop(['molecule', 'concentration'], axis=1)\n",
    "spectra = X_df['spectra'].values                                        \n",
    "spectra = np.array([np.array(dd[1:-1].split(',')).astype(float) for dd in spectra])    \n",
    "X_df['spectra'] = spectra.tolist()"
   ]
  },
  {
   "cell_type": "code",
   "execution_count": 9,
   "metadata": {
    "collapsed": false
   },
   "outputs": [
    {
     "name": "stdout",
     "output_type": "stream",
     "text": [
      "   solute                                            spectra  vial\n",
      "0      11  [0.0152963, 0.0152944, 0.0153142, 0.0154096, 0...     1\n",
      "1       1  [0.0143634, 0.0143292, 0.0143999, 0.0145162, 0...     1\n",
      "2       3  [0.0163027, 0.0161848, 0.0163573, 0.0164119, 0...     1\n",
      "3      10  [0.0135833, 0.0135537, 0.0134438, 0.0136424, 0...     2\n",
      "4       2  [0.020811, 0.020767, 0.0208674, 0.0207018, 0.0...     3\n",
      "5       4  [0.0273853, 0.0271442, 0.0273076, 0.0272756, 0...     1\n",
      "6       5  [0.016065, 0.0161625, 0.0161815, 0.0162885, 0....     3\n",
      "7       9  [0.0225653, 0.0226097, 0.0222985, 0.0224744, 0...     2\n",
      "8       1  [0.0145261, 0.014045, 0.0144388, 0.0143233, 0....     3\n",
      "9       1  [0.0139963, 0.0143121, 0.0143192, 0.0140011, 0...     3\n"
     ]
    }
   ],
   "source": [
    "print X_df.head(1"
   ]
  },
  {
   "cell_type": "code",
   "execution_count": 3,
   "metadata": {
    "collapsed": false
   },
   "outputs": [
    {
     "name": "stdout",
     "output_type": "stream",
     "text": [
      "Number of samples: 999\n"
     ]
    },
    {
     "data": {
      "image/png": "[encoded data removed]",
      "text/plain": [
       "<matplotlib.figure.Figure at 0x7fd9b10a4ed0>"
      ]
     },
     "metadata": {},
     "output_type": "display_data"
    }
   ],
   "source": [
    "# Types of molecules\n",
    "np.unique(y_df['molecule'].values)\n",
    "print('Number of samples: %s' % len(y_df))\n",
    "y_df.groupby('molecule').count().plot(y='concentration', kind='pie', autopct='%.2f', figsize=(5, 5));"
   ]
  },
  {
   "cell_type": "markdown",
   "metadata": {},
   "source": [
    "### Feature extractor for classification"
   ]
  },
  {
   "cell_type": "markdown",
   "metadata": {},
   "source": [
    "For this part, I just added a function of preprocessing. For some classifications, the normalization of data should be necessary and it also make some progress. I tried several methods, but it returned worse result, such as Kbest."
   ]
  },
  {
   "cell_type": "code",
   "execution_count": 4,
   "metadata": {
    "collapsed": false
   },
   "outputs": [],
   "source": [
    "import numpy as np\n",
    "# import pandas as pd\n",
    "from sklearn import preprocessing\n",
    "class FeatureExtractorClf():\n",
    "    def __init__(self):\n",
    "        pass\n",
    "\n",
    "    def fit(self, X_df, y):\n",
    "        pass\n",
    "\n",
    "    def transform(self, X_df):\n",
    "        # Normalise the data\n",
    "        XX = np.array([np.array(dd) for dd in X_df['spectra']])\n",
    "        XX = preprocessing.normalize(XX)\n",
    "        return XX"
   ]
  },
  {
   "cell_type": "markdown",
   "metadata": {},
   "source": [
    "### Classification: predicting the molecule type"
   ]
  },
  {
   "cell_type": "markdown",
   "metadata": {},
   "source": [
    "In my code, every model should added a function PCA. Because 1866 features are too many for only 999 sample, so after PCA, it will reture n_components most important features. It really improves the performance. "
   ]
  },
  {
   "cell_type": "markdown",
   "metadata": {},
   "source": [
    "Firstly, I added a function XGBClassifier following the RandomForestClassifier, because the RandomForestClassifier contains a function of transforma. So, after the feature selection by PCA, the RandomForestClassifier transforms the selected features and it will be the input of the XGBClassifier. It did decease the error rate(from 0.1 to 0.08). But I found that most of Classifier are not runable as this form."
   ]
  },
  {
   "cell_type": "markdown",
   "metadata": {},
   "source": [
    "Secondly, I added several classifiers (ExtraTreesClassifier, SVM, KNN,XGBClassifier)\n",
    "and I tried to merge these 4 classifiers. In my second submission, I gave weight to every prediction just like voting. And it got a better result(0.043 error rate). In fact, I spended so much time for calculating the weights for voting, but actually, after cross-validation, it means nothing. "
   ]
  },
  {
   "cell_type": "markdown",
   "metadata": {},
   "source": [
    "Thirdly, because I spended so long time to modify the weights and the parameters and it didn't work, I tried to find some other superior methods. I tried to use Bagging, because of some problems of the package, I could not use XGBClassifier as the base_estimator of Bagging(I don't kown why, but my friend can run my Bagging code in his computer). So, I choosen the ExtraTreesClassifier as my base_estimator. And fortunately, it returned a better result. I decided to reserve it."
   ]
  },
  {
   "cell_type": "markdown",
   "metadata": {},
   "source": [
    "Finally, the result is also far from the leader, I tried Stacking. The predictions of (ExtraTreesClassifier, SVM, KNN, XGBC) could be the features and I combined these predictions with X as new features, and I use the Bagging to fit them. The last three methods, they all have distancies of error rate between 2-fold. But this mothod make it more similary. Finally, I got about 0.04 of error rate. "
   ]
  },
  {
   "cell_type": "code",
   "execution_count": 5,
   "metadata": {
    "collapsed": false
   },
   "outputs": [
    {
     "name": "stderr",
     "output_type": "stream",
     "text": [
      "/home/zz/anaconda2/lib/python2.7/site-packages/sklearn/cross_validation.py:44: DeprecationWarning: This module was deprecated in version 0.18 in favor of the model_selection module into which all the refactored classes and functions are moved. Also note that the interface of the new CV iterators are different from that of this module. This module will be removed in 0.20.\n",
      "  \"This module will be removed in 0.20.\", DeprecationWarning)\n"
     ]
    }
   ],
   "source": [
    "from xgboost import XGBClassifier\n",
    "from sklearn.ensemble import RandomForestClassifier\n",
    "from sklearn.decomposition import PCA\n",
    "from sklearn.pipeline import Pipeline\n",
    "from sklearn.base import BaseEstimator\n",
    "from sklearn.ensemble import ExtraTreesClassifier\n",
    "from sklearn.neighbors import KNeighborsClassifier\n",
    "from sklearn.ensemble import BaggingClassifier\n",
    "from xgboost import XGBClassifier\n",
    "from sklearn.svm import SVC\n",
    "import numpy as np\n",
    "class Classifier(BaseEstimator):\n",
    "    def __init__(self):\n",
    "        \n",
    "        self.n_components = 40\n",
    "        self.n_estimators = 300\n",
    "        self.clf1 = Pipeline([\n",
    "            ('pca', PCA(n_components=self.n_components)),\n",
    "  \n",
    "            ('clf', RandomForestClassifier(n_estimators=self.n_estimators, random_state=42)),\n",
    "            ('XGB', XGBClassifier(max_depth=5, n_estimators=500, learning_rate=0.05,nthread = 1))\n",
    "        ])\n",
    "        self.clf2 = Pipeline([\n",
    "                ('pca', PCA(n_components=self.n_components)),\n",
    "                ('et',ExtraTreesClassifier(n_jobs=4, n_estimators=2000, max_features=20, min_samples_split=3,\n",
    "bootstrap=False, verbose=0, random_state=23))\n",
    "            ])\n",
    "        self.clf3 = Pipeline([\n",
    "                ('pca', PCA(n_components=self.n_components)),\n",
    "                ('svm', SVC(probability=True,C = 1e7))\n",
    "            ])\n",
    "        self.clf4 = Pipeline([\n",
    "                ('pca', PCA(n_components=self.n_components)),\n",
    "                ('bag', BaggingClassifier(base_estimator=self.clf2, n_estimators=5,\n",
    "                                     max_samples=1.,random_state=23))\n",
    "            ]) \n",
    "        self.clf5 = Pipeline([\n",
    "                ('pca', PCA(n_components=self.n_components)),\n",
    "                ('KNN', KNeighborsClassifier(6))\n",
    "            ]) \n",
    "    def fit(self, X, y):\n",
    "        self.clf1.fit(X, y)\n",
    "        self.clf2.fit(X, y)\n",
    "        self.clf3.fit(X,y)\n",
    "        self.clf5.fit(X,y)\n",
    "        #fit 4 classifiers and calulate the prediction based on X\n",
    "        proba1 = self.clf1.predict_proba(X)\n",
    "        proba2 = self.clf2.predict_proba(X)\n",
    "        proba3 = self.clf3.predict_proba(X)\n",
    "        proba5 = self.clf5.predict_proba(X)\n",
    "        # Combination of the predictions and X as the new features\n",
    "        proba = np.concatenate((proba1,proba2,proba3,proba5,X),axis = 1)\n",
    "        #fit them with bagging\n",
    "        self.clf4.fit(proba,y)\n",
    "        \n",
    "    def predict(self, X):\n",
    "        return self.clf4.predict(X)\n",
    "\n",
    "    def predict_proba(self, X):\n",
    "        #the same operations for x_predict\n",
    "        proba1 = self.clf1.predict_proba(X)\n",
    "        proba2 = self.clf2.predict_proba(X)\n",
    "        proba3 = self.clf3.predict_proba(X)\n",
    "        proba5 = self.clf5.predict_proba(X)\n",
    "        proba = np.concatenate((proba1,proba2,proba3,proba5,X),axis = 1)\n",
    "        return self.clf4.predict_proba(proba)"
   ]
  },
  {
   "cell_type": "code",
   "execution_count": 6,
   "metadata": {
    "collapsed": false
   },
   "outputs": [
    {
     "name": "stderr",
     "output_type": "stream",
     "text": [
      "/home/zz/anaconda2/lib/python2.7/site-packages/sklearn/utils/deprecation.py:70: DeprecationWarning: Function transform is deprecated; Support to use estimators as feature selectors will be removed in version 0.19. Use SelectFromModel instead.\n",
      "  warnings.warn(msg, category=DeprecationWarning)\n",
      "/home/zz/anaconda2/lib/python2.7/site-packages/sklearn/utils/deprecation.py:70: DeprecationWarning: Function transform is deprecated; Support to use estimators as feature selectors will be removed in version 0.19. Use SelectFromModel instead.\n",
      "  warnings.warn(msg, category=DeprecationWarning)\n",
      "/home/zz/anaconda2/lib/python2.7/site-packages/sklearn/utils/deprecation.py:70: DeprecationWarning: Function transform is deprecated; Support to use estimators as feature selectors will be removed in version 0.19. Use SelectFromModel instead.\n",
      "  warnings.warn(msg, category=DeprecationWarning)\n"
     ]
    },
    {
     "name": "stdout",
     "output_type": "stream",
     "text": [
      "error = 0.035\n",
      "classification report:\n",
      "              precision    recall  f1-score   support\n",
      "\n",
      "          A       0.97      0.97      0.97        63\n",
      "          B       1.00      0.91      0.95        45\n",
      "          Q       1.00      1.00      1.00        40\n",
      "          R       0.91      0.98      0.94        52\n",
      "\n",
      "avg / total       0.97      0.96      0.97       200\n",
      "\n",
      "confusion matrix:\n",
      " [[61  0  0  2]\n",
      " [ 1 41  0  3]\n",
      " [ 0  0 40  0]\n",
      " [ 1  0  0 51]]\n"
     ]
    },
    {
     "name": "stderr",
     "output_type": "stream",
     "text": [
      "/home/zz/anaconda2/lib/python2.7/site-packages/sklearn/utils/deprecation.py:70: DeprecationWarning: Function transform is deprecated; Support to use estimators as feature selectors will be removed in version 0.19. Use SelectFromModel instead.\n",
      "  warnings.warn(msg, category=DeprecationWarning)\n",
      "/home/zz/anaconda2/lib/python2.7/site-packages/sklearn/utils/deprecation.py:70: DeprecationWarning: Function transform is deprecated; Support to use estimators as feature selectors will be removed in version 0.19. Use SelectFromModel instead.\n",
      "  warnings.warn(msg, category=DeprecationWarning)\n",
      "/home/zz/anaconda2/lib/python2.7/site-packages/sklearn/utils/deprecation.py:70: DeprecationWarning: Function transform is deprecated; Support to use estimators as feature selectors will be removed in version 0.19. Use SelectFromModel instead.\n",
      "  warnings.warn(msg, category=DeprecationWarning)\n"
     ]
    },
    {
     "name": "stdout",
     "output_type": "stream",
     "text": [
      "error = 0.05\n",
      "classification report:\n",
      "              precision    recall  f1-score   support\n",
      "\n",
      "          A       0.91      1.00      0.95        49\n",
      "          B       0.98      0.89      0.93        56\n",
      "          Q       1.00      0.96      0.98        47\n",
      "          R       0.92      0.96      0.94        48\n",
      "\n",
      "avg / total       0.95      0.95      0.95       200\n",
      "\n",
      "confusion matrix:\n",
      " [[49  0  0  0]\n",
      " [ 3 50  0  3]\n",
      " [ 1  0 45  1]\n",
      " [ 1  1  0 46]]\n"
     ]
    }
   ],
   "source": [
    "from sklearn.model_selection import ShuffleSplit\n",
    "from sklearn.metrics import classification_report, confusion_matrix, accuracy_score\n",
    "\n",
    "labels = np.array(['A', 'B', 'Q', 'R'])\n",
    "\n",
    "def train_test_model_clf(X_df, y_df, skf_is, FeatureExtractor, Classifier):\n",
    "    train_is, test_is = skf_is\n",
    "    X_train_df = X_df.iloc[train_is].copy()                                  \n",
    "    y_train_df = y_df.iloc[train_is].copy()\n",
    "    y_train_clf = y_train_df['molecule'].values\n",
    "    X_test_df = X_df.iloc[test_is].copy()                                    \n",
    "    y_test_df = y_df.iloc[test_is].copy() \n",
    "    y_test_clf = y_test_df['molecule'].values \n",
    "    # Feature extraction\n",
    "    fe_clf = FeatureExtractor()\n",
    "    fe_clf.fit(X_train_df, y_train_clf)\n",
    "    X_train_array_clf = fe_clf.transform(X_train_df)\n",
    "    X_test_array_clf = fe_clf.transform(X_test_df)\n",
    "    # Train\n",
    "    clf = Classifier()\n",
    "    clf.fit(X_train_array_clf, y_train_clf)\n",
    "    # Test \n",
    "    y_proba_clf = clf.predict_proba(X_test_array_clf)                        \n",
    "    y_pred_clf = labels[np.argmax(y_proba_clf, axis=1)]                      \n",
    "    error = 1 - accuracy_score(y_test_clf, y_pred_clf)                       \n",
    "    print('error = %s' % error)                                                                            \n",
    "    print('classification report:\\n %s' % classification_report(y_test_clf, y_pred_clf))\n",
    "    print('confusion matrix:\\n %s' % confusion_matrix(y_test_clf, y_pred_clf))\n",
    "\n",
    "\n",
    "skf = ShuffleSplit(n_splits=2, test_size=0.2, random_state=57)  \n",
    "for i in range(2):\n",
    "    skf_is = list(skf.split(X_df))[i]\n",
    "    train_test_model_clf(X_df, y_df, skf_is, FeatureExtractorClf, Classifier)"
   ]
  },
  {
   "cell_type": "markdown",
   "metadata": {},
   "source": [
    "### Feature extractor for regression\n",
    "\n",
    "For this part, I tried to do some feature ingeneering, but most of them change nothing. For example, I tried to use the preprocessing.normalize(), but it was worse than the original method. But in the original method, all values minus the median. I think that all values minus the mean will be more meaningful. So I changed the median to mean. It returned a better result. "
   ]
  },
  {
   "cell_type": "markdown",
   "metadata": {},
   "source": [
    "In fact, I tried to do the normalization for different molecules, but I have no enough time to do it. I think it could be improve the performance.  "
   ]
  },
  {
   "cell_type": "code",
   "execution_count": 10,
   "metadata": {
    "collapsed": false
   },
   "outputs": [],
   "source": [
    "import numpy as np\n",
    "# import pandas as pd\n",
    "\n",
    "labels = np.array(['A', 'B', 'Q', 'R'])\n",
    "\n",
    "class FeatureExtractorReg():\n",
    "    def __init__(self):\n",
    "        pass\n",
    "\n",
    "    def fit(self, X_df, y):\n",
    "        pass\n",
    "    #change midian by mean\n",
    "    def transform(self, X_df):\n",
    "        XX = np.array([np.array(dd) for dd in X_df['spectra']])\n",
    "        XX -= np.mean(XX, axis=1)[:, None]\n",
    "        XX /= np.sqrt(np.sum(XX ** 2, axis=1))[:, None]\n",
    "        XX = np.concatenate([XX, X_df[labels].values], axis=1)\n",
    "        return XX"
   ]
  },
  {
   "cell_type": "markdown",
   "metadata": {},
   "source": [
    "### Regression: predicting the concentration\n",
    "\n",
    "\n",
    "\n",
    "As mentionned above, the error metric is the mean absolute relative error (mare): $$\\frac{1}{n_{samples}}\\sum_{k=1}^{n_{samples}}\\left|\\frac{y-\\hat{y}}{y}\\right|$$ with $y$ and $\\hat{y}$ being the true and predicted concentration.\n"
   ]
  },
  {
   "cell_type": "markdown",
   "metadata": {},
   "source": [
    "For this part, I made progresses as last cas. I tried several methods of regression, but most of them did not improve the performance, so I tried to merge some methods and give them weights. It really improves the performance(from 0.18 to 0.15). But it did not change much. So, I reused the method of Bagging and Stacking.\n",
    "After Bagging with XGBRegressor, it improved the performance to 0.13. And stacking, I combined the X and the predictions of (XGBRegressor,ExtraTreesRegressor), and inputed them as new features, and train them by Bagging(Base_estimators = XGBRegressor). "
   ]
  },
  {
   "cell_type": "markdown",
   "metadata": {},
   "source": [
    "And it returned the best result, less than 0.1, but actually, it always returned 0.85 or 0.9 in my machine, but it got the mare = 0.1 online. "
   ]
  },
  {
   "cell_type": "code",
   "execution_count": 11,
   "metadata": {
    "collapsed": false
   },
   "outputs": [],
   "source": [
    "from sklearn.ensemble import GradientBoostingRegressor\n",
    "from sklearn.decomposition import PCA\n",
    "from sklearn.pipeline import Pipeline\n",
    "from sklearn.base import BaseEstimator\n",
    "import numpy as np\n",
    "from sklearn.svm import SVR\n",
    "from sklearn.linear_model import LogisticRegression\n",
    "from sklearn.ensemble import RandomForestRegressor\n",
    "from sklearn.ensemble import BaggingRegressor\n",
    "from xgboost import XGBRegressor\n",
    "from sklearn.ensemble import ExtraTreesRegressor\n",
    "class Regressor(BaseEstimator):                                                 \n",
    "    def __init__(self):                                                         \n",
    "        self.n_components = 8                                                 \n",
    "        self.n_estimators = 40                                                  \n",
    "        self.learning_rate = 0.2                                                \n",
    "        self.list_molecule = ['A', 'B', 'Q', 'R']                               \n",
    "        self.dict_reg0 = {}\n",
    "        self.dict_reg1 = {}\n",
    "        self.dict_reg2 = {}\n",
    "        self.dict_reg3 = {}\n",
    "        self.dict_reg4 = {}\n",
    "        for mol in self.list_molecule:                                          \n",
    "            self.dict_reg0[mol] = Pipeline([                                     \n",
    "                ('pca', PCA(n_components=self.n_components)),                   \n",
    "                ('reg', GradientBoostingRegressor(max_depth=5,                              \n",
    "                    n_estimators=self.n_estimators,                             \n",
    "                    learning_rate=self.learning_rate,                           \n",
    "                    random_state=42))                                           \n",
    "            ])\n",
    "           \n",
    "            self.dict_reg1[mol] = Pipeline([                                     \n",
    "                ('pca', PCA(n_components=8)),                   \n",
    "                    ('reg', XGBRegressor(max_depth=4,                              \n",
    "                    n_estimators=300,                             \n",
    "                    learning_rate=self.learning_rate,nthread = 1))                                           \n",
    "            ])\n",
    "            self.dict_reg2[mol] = Pipeline([                                     \n",
    "                ('pca', PCA(n_components=8)),                   \n",
    "                ('reg', XGBRegressor(max_depth=5,n_estimators=300))                                         \n",
    "            ])\n",
    "            self.dict_reg3[mol] = Pipeline([                                     \n",
    "                ('pca', PCA(n_components=8)),                   \n",
    "                    ('reg', ExtraTreesRegressor(max_depth=8,n_estimators=300))                                         \n",
    "            ])\n",
    "            self.dict_reg4[mol] = Pipeline([                                     \n",
    "                ('pca', PCA(n_components=8)),                   \n",
    "               ('bag', BaggingRegressor(base_estimator=self.dict_reg2[mol], n_estimators=20,\n",
    "                                     max_samples=1.,random_state=23))                                       \n",
    "           \n",
    "                ])\n",
    "           \n",
    "                                                                                \n",
    "    def fit(self, X, y):  \n",
    "        for i, mol in enumerate(self.list_molecule):                            \n",
    "            ind_mol = np.where(np.argmax(X[:, -4:], axis=1) == i)[0]            \n",
    "            XX_mol = X[ind_mol]                                                 \n",
    "            y_mol = y[ind_mol].astype(float) \n",
    "            self.dict_reg3[mol].fit(XX_mol, np.log(y_mol))                       \n",
    "            self.dict_reg2[mol].fit(XX_mol, np.log(y_mol))\n",
    "            self.dict_reg4[mol].fit(XX_mol, np.log(y_mol))\n",
    "            y2 = np.exp(self.dict_reg2[mol].predict(XX_mol))\n",
    "            y2 = np.reshape(y2,(len(y2),1))\n",
    "            y3 = np.exp(self.dict_reg3[mol].predict(XX_mol))\n",
    "            y3 = np.reshape(y3,(len(y3),1))\n",
    "            y_new = np.concatenate((XX_mol,y2,y3),axis=1)\n",
    "            self.dict_reg4[mol].fit(y_new,np.log(y_mol))\n",
    "    def predict(self, X):                                                       \n",
    "        y_pred0 = np.zeros(X.shape[0])\n",
    "        y_pred1 = np.zeros(X.shape[0])\n",
    "        y_pred2 = np.zeros(X.shape[0])\n",
    "        y_pred3 = np.zeros(X.shape[0])\n",
    "        y_pred4 = np.zeros(X.shape[0])\n",
    "        y_pred = np.zeros(X.shape[0])\n",
    "        for i, mol in enumerate(self.list_molecule):                            \n",
    "            ind_mol = np.where(np.argmax(X[:, -4:], axis=1) == i)[0]            \n",
    "            XX_mol = X[ind_mol].astype(float)\n",
    "            y2 = np.exp(self.dict_reg2[mol].predict(XX_mol))\n",
    "            y2 = np.reshape(y2,(len(y2),1))\n",
    "            y3 = np.exp(self.dict_reg3[mol].predict(XX_mol))\n",
    "            y3 = np.reshape(y3,(len(y3),1))\n",
    "            y_new = np.concatenate((XX_mol,y2,y3),axis=1)\n",
    "            y_pred4[ind_mol] = np.exp(self.dict_reg4[mol].predict(y_new))\n",
    "        return y_pred4\n"
   ]
  },
  {
   "cell_type": "markdown",
   "metadata": {},
   "source": [
    "The result as follow:"
   ]
  },
  {
   "cell_type": "code",
   "execution_count": 12,
   "metadata": {
    "collapsed": false
   },
   "outputs": [
    {
     "name": "stderr",
     "output_type": "stream",
     "text": [
      "/home/zz/anaconda2/lib/python2.7/site-packages/sklearn/utils/deprecation.py:70: DeprecationWarning: Function transform is deprecated; Support to use estimators as feature selectors will be removed in version 0.19. Use SelectFromModel instead.\n",
      "  warnings.warn(msg, category=DeprecationWarning)\n",
      "/home/zz/anaconda2/lib/python2.7/site-packages/sklearn/utils/deprecation.py:70: DeprecationWarning: Function transform is deprecated; Support to use estimators as feature selectors will be removed in version 0.19. Use SelectFromModel instead.\n",
      "  warnings.warn(msg, category=DeprecationWarning)\n",
      "/home/zz/anaconda2/lib/python2.7/site-packages/sklearn/utils/deprecation.py:70: DeprecationWarning: Function transform is deprecated; Support to use estimators as feature selectors will be removed in version 0.19. Use SelectFromModel instead.\n",
      "  warnings.warn(msg, category=DeprecationWarning)\n"
     ]
    },
    {
     "name": "stdout",
     "output_type": "stream",
     "text": [
      "('error = ', 0.035000000000000031)\n",
      "('mare = ', 0.084206927888730979)\n",
      "('combined error = ', 0.051402309296243676)\n"
     ]
    },
    {
     "name": "stderr",
     "output_type": "stream",
     "text": [
      "/home/zz/anaconda2/lib/python2.7/site-packages/sklearn/utils/deprecation.py:70: DeprecationWarning: Function transform is deprecated; Support to use estimators as feature selectors will be removed in version 0.19. Use SelectFromModel instead.\n",
      "  warnings.warn(msg, category=DeprecationWarning)\n",
      "/home/zz/anaconda2/lib/python2.7/site-packages/sklearn/utils/deprecation.py:70: DeprecationWarning: Function transform is deprecated; Support to use estimators as feature selectors will be removed in version 0.19. Use SelectFromModel instead.\n",
      "  warnings.warn(msg, category=DeprecationWarning)\n",
      "/home/zz/anaconda2/lib/python2.7/site-packages/sklearn/utils/deprecation.py:70: DeprecationWarning: Function transform is deprecated; Support to use estimators as feature selectors will be removed in version 0.19. Use SelectFromModel instead.\n",
      "  warnings.warn(msg, category=DeprecationWarning)\n"
     ]
    },
    {
     "name": "stdout",
     "output_type": "stream",
     "text": [
      "('error = ', 0.050000000000000044)\n",
      "('mare = ', 0.085333650386798188)\n",
      "('combined error = ', 0.061777883462266092)\n"
     ]
    }
   ],
   "source": [
    "def mare_score(y_true, y_pred):                                                  \n",
    "    return np.mean(np.abs((y_true - y_pred) / y_true)) \n",
    "\n",
    "def train_test_model(X_df, y_df, skf_is, FeatureExtractorClf, Classifier, FeatureExtractorReg, Regressor):\n",
    "    train_is, test_is = skf_is\n",
    "    X_train_df = X_df.iloc[train_is].copy()                                  \n",
    "    y_train_df = y_df.iloc[train_is].copy()                                  \n",
    "    X_test_df = X_df.iloc[test_is].copy()                                    \n",
    "    y_test_df = y_df.iloc[test_is].copy()                                    \n",
    "    y_train_clf = y_train_df['molecule'].values                              \n",
    "    y_train_reg = y_train_df['concentration'].values                         \n",
    "    y_test_clf = y_test_df['molecule'].values                                \n",
    "    y_test_reg = y_test_df['concentration'].values                           \n",
    "\n",
    "    # Classification\n",
    "    fe_clf = FeatureExtractorClf()                     \n",
    "    fe_clf.fit(X_train_df, y_train_clf)                                       \n",
    "    X_train_array_clf = fe_clf.transform(X_train_df)                         \n",
    "    X_test_array_clf = fe_clf.transform(X_test_df)                           \n",
    "                                                                                 \n",
    "    clf = Classifier()                                            \n",
    "    clf.fit(X_train_array_clf, y_train_clf)                                  \n",
    "    y_proba_clf = clf.predict_proba(X_test_array_clf)                        \n",
    "    y_pred_clf = labels[np.argmax(y_proba_clf, axis=1)]                      \n",
    "    error = 1 - accuracy_score(y_test_clf, y_pred_clf)                       \n",
    "    print('error = ', error)\n",
    "    \n",
    "    # Regression\n",
    "    fe_reg = FeatureExtractorReg()                     \n",
    "    for i, label in enumerate(labels):\n",
    "        # For training, we use \n",
    "        X_train_df.loc[:, label] = (y_train_df['molecule'] == label)         \n",
    "        X_test_df.loc[:, label] = y_proba_clf[:, i]                          \n",
    "    fe_reg.fit(X_train_df, y_train_reg)                                      \n",
    "    X_train_array_reg = fe_reg.transform(X_train_df)                         \n",
    "    X_test_array_reg = fe_reg.transform(X_test_df)                           \n",
    "                                                                                 \n",
    "    reg = Regressor()                                              \n",
    "    reg.fit(X_train_array_reg, y_train_reg)                               \n",
    "    y_pred_reg = reg.predict(X_test_array_reg)\n",
    "    mare = mare_score(y_test_reg, y_pred_reg)\n",
    "    print('mare = ', mare)                \n",
    "    print('combined error = ', 2. / 3 * error + 1. / 3 * mare)\n",
    "\n",
    "\n",
    "skf = ShuffleSplit(n_splits=2, test_size=0.2, random_state=57) \n",
    "for i in range(2):\n",
    "    skf_is = list(skf.split(X_df))[i]\n",
    "\n",
    "    train_test_model(X_df, y_df, skf_is, FeatureExtractorClf, Classifier, FeatureExtractorReg, Regressor)"
   ]
  },
  {
   "cell_type": "markdown",
   "metadata": {},
   "source": [
    "### conclusion\n",
    "\n",
    "1. Maybe I do not find a efficient way to resolve this problem. Because I find the others take less time to train the model. I think that I should search some more effcient methods.\n",
    "\n",
    "2. I should take more attention to the feature ingineering and preprocessiong. It maybe improves the performace.\n",
    "\n",
    "3. I should spend more time to familiar the method in maching learning, because in this challenge, I spended most of time to find convinient method.\n",
    "\n",
    "\n"
   ]
  },
  {
   "cell_type": "markdown",
   "metadata": {},
   "source": [
    "And I ran my code by python as follow"
   ]
  },
  {
   "cell_type": "code",
   "execution_count": 13,
   "metadata": {
    "collapsed": false
   },
   "outputs": [
    {
     "name": "stdout",
     "output_type": "stream",
     "text": [
      "python: can't open file 'user_test_submission.py': [Errno 2] No such file or directory\r\n"
     ]
    }
   ],
   "source": [
    "!python user_test_submission.py"
   ]
  },
  {
   "cell_type": "code",
   "execution_count": null,
   "metadata": {
    "collapsed": true
   },
   "outputs": [],
   "source": []
  }
 ],
 "metadata": {
  "anaconda-cloud": {},
  "kernelspec": {
   "display_name": "Python 2",
   "language": "python",
   "name": "python2"
  },
  "language_info": {
   "codemirror_mode": {
    "name": "ipython",
    "version": 2
   },
   "file_extension": ".py",
   "mimetype": "text/x-python",
   "name": "python",
   "nbconvert_exporter": "python",
   "pygments_lexer": "ipython2",
   "version": "2.7.13"
  }
 },
 "nbformat": 4,
 "nbformat_minor": 0
}
